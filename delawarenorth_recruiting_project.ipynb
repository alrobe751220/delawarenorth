{
 "cells": [
  {
   "cell_type": "markdown",
   "id": "3f0f6f92",
   "metadata": {},
   "source": [
    "# The US Department of Health and Human Services provides federal-level collection and publishing of COVID-19 testing and patient outcome data. To better understand the current state of COVID-19 testing in the US, we’d like you to create a Python project and documentation for the following metrics:\n",
    "•\tThe total number of PCR tests performed as of yesterday in the United States.\n",
    "•\tThe 7-day rolling average number of new cases per day for the last 30 days.\n",
    "•\tThe 10 states with the highest test positivity rate (positive tests / tests performed) for tests performed in the last 30 days.\n",
    "\n"
   ]
  },
  {
   "cell_type": "markdown",
   "id": "49f685ed",
   "metadata": {},
   "source": [
    "Data ingestion\n",
    "•\tIt is assumed data is in a json file with the following structure:        [{\"state\":\"xx\",\"state_name\":\"xxx\",\"state_fips\":\"xx\",\"fema_region\":\"xxx…\",\"overall_outcome\":\"xxx…\",\"date\":\"xxxx…\",\"new_results_reported\":\"xxx…\",\"total_results_reported\":\"xxx…\"},{….}]\n",
    "•\tData could be read from a given location\n"
   ]
  },
  {
   "cell_type": "code",
   "execution_count": 241,
   "id": "11626ab0",
   "metadata": {},
   "outputs": [],
   "source": [
    "# load pandas and json modules                                                                                               \n",
    "import pandas as pd\n",
    "import json"
   ]
  },
  {
   "cell_type": "markdown",
   "id": "277c174c",
   "metadata": {},
   "source": [
    "Source location and file name definition"
   ]
  },
  {
   "cell_type": "code",
   "execution_count": 242,
   "id": "0268473c",
   "metadata": {},
   "outputs": [],
   "source": [
    "#source_location = 'https://healthdata.gov/resource/'\n",
    "source_location = 'C:/Users/arodriguezbe/OneDrive - Suncor Energy Inc/'\n",
    "#source_file = 'j8mb-icvb.json'\n",
    "source_file = 'COVID-19_Diagnostic_Laboratory_Testing__PCR_Testing__Time_Series.csv'"
   ]
  },
  {
   "cell_type": "markdown",
   "id": "c6c871a2",
   "metadata": {},
   "source": [
    "Data ingestion"
   ]
  },
  {
   "cell_type": "markdown",
   "id": "3fdde3cc",
   "metadata": {},
   "source": [
    "df_covid = pd.read_json(source_location + source_file)"
   ]
  },
  {
   "cell_type": "code",
   "execution_count": 244,
   "id": "484f59ce",
   "metadata": {},
   "outputs": [],
   "source": [
    "df_covid = pd.read_csv(source_location + source_file, index_col=None)"
   ]
  },
  {
   "cell_type": "code",
   "execution_count": 248,
   "id": "470d0706",
   "metadata": {},
   "outputs": [],
   "source": [
    "df_covid['date']= df_covid['date'].astype(str)\n",
    "df_covid['date']= df_covid['date'].astype('datetime64[ns]')"
   ]
  },
  {
   "cell_type": "markdown",
   "id": "596c98a9",
   "metadata": {},
   "source": [
    "To order data set by \"date\""
   ]
  },
  {
   "cell_type": "code",
   "execution_count": 249,
   "id": "7da64dd7",
   "metadata": {},
   "outputs": [],
   "source": [
    "df_covid.sort_values(by=['date'], inplace = True)\n",
    "df_covid = df_covid.reset_index(drop=True)  "
   ]
  },
  {
   "cell_type": "markdown",
   "id": "317272e2",
   "metadata": {},
   "source": [
    "Metrics:  The total number of PCR tests performed as of yesterday in the United States."
   ]
  },
  {
   "cell_type": "code",
   "execution_count": 250,
   "id": "267968ae",
   "metadata": {},
   "outputs": [],
   "source": [
    "#To get number of PCRs per date for USA\n",
    "df_pcr_totals = df_covid.groupby('date').new_results_reported.agg(df_pcr_totals = ('sum'))\n",
    "df_pcr_totals = df_pcr_totals.reset_index()  "
   ]
  },
  {
   "cell_type": "code",
   "execution_count": 251,
   "id": "5e3fb7c5",
   "metadata": {},
   "outputs": [
    {
     "name": "stdout",
     "output_type": "stream",
     "text": [
      "The total number of PCR tests performed as of yesterday in the United States : 143630 cases\n"
     ]
    }
   ],
   "source": [
    "#To print yesyerday's PCR test performed.  Yesterday is defined as the prevoius date to the most curent date we have data.\n",
    "print('The total number of PCR tests performed as of yesterday in the United States :',df_pcr_totals['df_pcr_totals'].iloc[len(df_pcr_totals)-2], 'cases')"
   ]
  },
  {
   "cell_type": "markdown",
   "id": "4367bbe4",
   "metadata": {},
   "source": [
    "Metrics: The 7-day rolling average number of new cases per day for the last 30 days.\n",
    "-  New cases are assumed to be the Positive PCR tests"
   ]
  },
  {
   "cell_type": "code",
   "execution_count": 255,
   "id": "feee282e",
   "metadata": {},
   "outputs": [],
   "source": [
    "#To get all positive PCR test cases from original data set for all USA \n",
    "df_newcases1 = df_covid[(df_covid.overall_outcome == \"Positive\")].copy() \n",
    "df_newcases = df_newcases1.groupby(['date']).new_results_reported.agg(new_cases = ('sum'))\n",
    "df_newcases = df_newcases.reset_index()  "
   ]
  },
  {
   "cell_type": "code",
   "execution_count": 256,
   "id": "2980481d",
   "metadata": {},
   "outputs": [],
   "source": [
    "#To get unique list of date from the data set, order them oldest to newest, and to pick the 30 most recent dates\n",
    "date_list = df_covid.date.unique()\n",
    "date_list.sort()\n",
    "days_list = date_list[-30:]\n",
    "last_30days = pd.DataFrame({'date':days_list})"
   ]
  },
  {
   "cell_type": "code",
   "execution_count": 257,
   "id": "6d4cd10c",
   "metadata": {},
   "outputs": [],
   "source": [
    "#To get data from all positive PCR test date for only the last 30 days\n",
    "df_rolling_last30days = pd.merge(last_30days, df_newcases, on=['date'], how = \"left\")"
   ]
  },
  {
   "cell_type": "code",
   "execution_count": 260,
   "id": "49bc4615",
   "metadata": {},
   "outputs": [],
   "source": [
    "#To calculate last 30 days rolling average of new cases per day for the last 30 days\n",
    "df_pcr_rolling_avg = df_rolling_last30days['new_cases'].rolling(7).mean()\n",
    "df_pcr_rolling_avg = df_pcr_rolling_avg.reset_index() \n",
    "df_pcr_rolling_avg = df_pcr_rolling_avg.rename(columns={'new_cases':'7day_rolling_avg'})\n",
    "df_pcr_rolling_avg['day'] = df_pcr_rolling_avg['index']+1\n",
    "df_pcr_rolling_avg =df_pcr_rolling_avg[['day','7day_rolling_avg']]\n"
   ]
  },
  {
   "cell_type": "code",
   "execution_count": 262,
   "id": "5df1d752",
   "metadata": {},
   "outputs": [
    {
     "name": "stdout",
     "output_type": "stream",
     "text": [
      "The 7-day rolling average number of new cases per day for the last 30 days.\n",
      "     day  7day_rolling_avg\n",
      "0     1               NaN\n",
      "1     2               NaN\n",
      "2     3               NaN\n",
      "3     4               NaN\n",
      "4     5               NaN\n",
      "5     6               NaN\n",
      "6     7      92886.428571\n",
      "7     8      94632.285714\n",
      "8     9      95416.285714\n",
      "9    10      94972.428571\n",
      "10   11      94742.285714\n",
      "11   12      93076.571429\n",
      "12   13      90404.000000\n",
      "13   14      87380.571429\n",
      "14   15      83982.428571\n",
      "15   16      80526.571429\n",
      "16   17      78084.428571\n",
      "17   18      76612.857143\n",
      "18   19      69911.285714\n",
      "19   20      67064.142857\n",
      "20   21      65756.142857\n",
      "21   22      67016.285714\n",
      "22   23      68157.571429\n",
      "23   24      68420.000000\n",
      "24   25      68885.857143\n",
      "25   26      73620.857143\n",
      "26   27      73340.000000\n",
      "27   28      68119.000000\n",
      "28   29      57536.000000\n",
      "29   30      47445.571429\n"
     ]
    }
   ],
   "source": [
    "#To present results\n",
    "print('The 7-day rolling average number of new cases per day for the last 30 days.\\n',df_pcr_rolling_avg)"
   ]
  },
  {
   "cell_type": "markdown",
   "id": "a99351c3",
   "metadata": {},
   "source": [
    "Metrics: The 10 states with the highest test positivity rate (positive tests / tests performed) for tests performed in the last 30 days."
   ]
  },
  {
   "cell_type": "code",
   "execution_count": 275,
   "id": "b6172704",
   "metadata": {},
   "outputs": [],
   "source": [
    "#To get last 30 days of PCR tests from original data set\n",
    "df_covid_last_30days = pd.merge(last_30days, df_covid, on=['date'], how = \"left\")\n",
    "#To have the total of PCR test perfomed per state during the last 30 days\n",
    "df_pcr_totals = df_covid_last_30days.groupby(['state_name']).new_results_reported.agg(tests_performed = ('sum'))\n",
    "df_pcr_totals = df_pcr_totals.reset_index()"
   ]
  },
  {
   "cell_type": "code",
   "execution_count": 276,
   "id": "ca1be9f9",
   "metadata": {},
   "outputs": [],
   "source": [
    "#to get positive test from last 30 days data set\n",
    "df_pcr_positive1 = df_covid_last_30days[(df_covid_last_30days.overall_outcome == \"Positive\")].copy()\n",
    "# to add up al lthe positive test in the last 30 days per state\n",
    "df_pcr_positive = df_pcr_positive1.groupby(['state_name']).new_results_reported.agg(positive_tests_performed = ('sum'))\n"
   ]
  },
  {
   "cell_type": "code",
   "execution_count": 277,
   "id": "79922e00",
   "metadata": {},
   "outputs": [],
   "source": [
    "#To merge two data sets: pcr totals per state and positive pcr total per state for the last 30 days\n",
    "df_positivity_rate = pd.merge(df_pcr_totals, df_pcr_positive, on=['state_name'], how = \"left\")\n",
    "df_positivity_rate.sort_values(by=['state_name'], inplace = True)\n"
   ]
  },
  {
   "cell_type": "code",
   "execution_count": 278,
   "id": "5e089c6b",
   "metadata": {},
   "outputs": [],
   "source": [
    "#To avoid math error if there is nan values for dividend as \"0\" and divisor as \"1\".  This may never happend on this process\n",
    "#but it is good to have it\n",
    "df_positivity_rate['positive_tests_performed'] = df_positivity_rate['positive_tests_performed'].fillna(0)\n",
    "df_positivity_rate['tests_performed'] = df_positivity_rate['tests_performed'].fillna(1)\n",
    "#To calculate \"positivity rate\"\n",
    "df_positivity_rate['positivity_rate'] = df_positivity_rate['positive_tests_performed']/df_positivity_rate['tests_performed']\n",
    "df_positivity_rate = df_positivity_rate[['state_name','positivity_rate']]"
   ]
  },
  {
   "cell_type": "code",
   "execution_count": 281,
   "id": "17e510b9",
   "metadata": {},
   "outputs": [
    {
     "name": "stdout",
     "output_type": "stream",
     "text": [
      "he 10 states with the highest test positivity rate (positive tests / tests performed) for tests performed in the last 30 days.\n",
      "             state_name  positivity_rate\n",
      "0             Virginia         0.180712\n",
      "1             Delaware         0.185343\n",
      "2              Arizona         0.191249\n",
      "3              Florida         0.191401\n",
      "4               Hawaii         0.205829\n",
      "5                 Utah         0.222829\n",
      "6               Nevada         0.254257\n",
      "7  U.S. Virgin Islands         0.285941\n",
      "8          Puerto Rico         0.290394\n",
      "9                 Iowa         1.000000\n"
     ]
    }
   ],
   "source": [
    "df_positivity_rate.sort_values(by=['positivity_rate'], inplace = True)\n",
    "df_positivity_rate = df_positivity_rate.reset_index(drop=True)  \n",
    "df_states = df_positivity_rate.tail(10)\n",
    "df_states = df_states.reset_index()\n",
    "df_states = df_states[['state_name','positivity_rate']]\n",
    "print('he 10 states with the highest test positivity rate (positive tests / tests performed) for tests performed in the last 30 days.\\n',df_states)"
   ]
  }
 ],
 "metadata": {
  "kernelspec": {
   "display_name": "Python 3 (ipykernel)",
   "language": "python",
   "name": "python3"
  },
  "language_info": {
   "codemirror_mode": {
    "name": "ipython",
    "version": 3
   },
   "file_extension": ".py",
   "mimetype": "text/x-python",
   "name": "python",
   "nbconvert_exporter": "python",
   "pygments_lexer": "ipython3",
   "version": "3.9.7"
  }
 },
 "nbformat": 4,
 "nbformat_minor": 5
}
