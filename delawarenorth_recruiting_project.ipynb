{
 "cells": [
  {
   "cell_type": "markdown",
   "id": "0061fbe3",
   "metadata": {},
   "source": [
    "# The US Department of Health and Human Services provides federal-level collection and publishing of COVID-19 testing and patient outcome data. To better understand the current state of COVID-19 testing in the US, we’d like you to create a Python project and documentation for the following metrics:"
   ]
  },
  {
   "cell_type": "markdown",
   "id": "ea174b9f",
   "metadata": {},
   "source": [
    "# •\tThe total number of PCR tests performed as of yesterday in the United States.\n",
    "\n"
   ]
  },
  {
   "cell_type": "markdown",
   "id": "ed1e23b1",
   "metadata": {},
   "source": [
    "# •\tThe 7-day rolling average number of new cases per day for the last 30 days."
   ]
  },
  {
   "cell_type": "markdown",
   "id": "a3cc52e8",
   "metadata": {},
   "source": [
    "# •\tThe 10 states with the highest test positivity rate (positive tests / tests performed) for tests performed in the last 30 days."
   ]
  },
  {
   "cell_type": "markdown",
   "id": "9843af89",
   "metadata": {},
   "source": [
    "###### •\tIt is assumed data is in a json file with the following structure:        [{\"state\":\"xx\",\"state_name\":\"xxx\",\"state_fips\":\"xx\",\"fema_region\":\"xxx…\",\"overall_outcome\":\"xxx…\",\"date\":\"xxxx…\",\"new_results_reported\":\"xxx…\",\"total_results_reported\":\"xxx…\"},{….}]\n",
    "\n"
   ]
  },
  {
   "cell_type": "markdown",
   "id": "10ab978d",
   "metadata": {},
   "source": [
    "###### •\tIt is assumed data may not be up to date so \"yesterday\" definition is the date before to the last date available in the source data set"
   ]
  },
  {
   "cell_type": "code",
   "execution_count": 300,
   "id": "a0127925",
   "metadata": {},
   "outputs": [],
   "source": [
    "# load pandas and json modules                                                                                               \n",
    "import pandas as pd\n",
    "import json"
   ]
  },
  {
   "cell_type": "markdown",
   "id": "279b2837",
   "metadata": {},
   "source": [
    "##### Source location and file name definition"
   ]
  },
  {
   "cell_type": "code",
   "execution_count": 301,
   "id": "b03cd2a2",
   "metadata": {},
   "outputs": [],
   "source": [
    "source_location = 'https://healthdata.gov/resource/'\n",
    "source_file = 'j8mb-icvb.json'"
   ]
  },
  {
   "cell_type": "markdown",
   "id": "4a096955",
   "metadata": {},
   "source": [
    "##### Data ingestion"
   ]
  },
  {
   "cell_type": "code",
   "execution_count": 302,
   "id": "f43e8c92",
   "metadata": {},
   "outputs": [],
   "source": [
    "df_covid = pd.read_json(source_location + source_file)"
   ]
  },
  {
   "cell_type": "code",
   "execution_count": 303,
   "id": "482548fa",
   "metadata": {},
   "outputs": [],
   "source": [
    "#To order data by \"date\"\n",
    "df_covid.sort_values(by=['date'], inplace = True)\n",
    "df_covid = df_covid.reset_index(drop=True)  "
   ]
  },
  {
   "cell_type": "markdown",
   "id": "0ec21ed5",
   "metadata": {},
   "source": [
    "### Metrics:  The total number of PCR tests performed as of yesterday in the United States."
   ]
  },
  {
   "cell_type": "code",
   "execution_count": 304,
   "id": "bbfbf00a",
   "metadata": {},
   "outputs": [],
   "source": [
    "#To get number of PCRs per date for USA\n",
    "df_pcr_totals = df_covid.groupby('date').new_results_reported.agg(df_pcr_totals = ('sum'))\n",
    "df_pcr_totals = df_pcr_totals.reset_index()  "
   ]
  },
  {
   "cell_type": "code",
   "execution_count": 305,
   "id": "40a5168e",
   "metadata": {},
   "outputs": [
    {
     "name": "stdout",
     "output_type": "stream",
     "text": [
      "The total number of PCR tests performed as of yesterday in the United States : 5609 cases\n"
     ]
    }
   ],
   "source": [
    "#To print yesyerday's PCR test performed.  Yesterday is defined as the prevoius date to the most curent date we have data.\n",
    "print('The total number of PCR tests performed as of yesterday in the United States :',df_pcr_totals['df_pcr_totals'].iloc[len(df_pcr_totals)-2], 'cases')"
   ]
  },
  {
   "cell_type": "markdown",
   "id": "4a266ecc",
   "metadata": {},
   "source": [
    "### Metrics: The 7-day rolling average number of new cases per day for the last 30 days.\n"
   ]
  },
  {
   "cell_type": "markdown",
   "id": "506e88ff",
   "metadata": {},
   "source": [
    "##### -  New cases are assumed to be the Positive PCR tests"
   ]
  },
  {
   "cell_type": "code",
   "execution_count": 306,
   "id": "58cbf102",
   "metadata": {},
   "outputs": [],
   "source": [
    "#To get all positive PCR test cases from original data set for all USA \n",
    "df_newcases1 = df_covid[(df_covid.overall_outcome == \"Positive\")].copy() \n",
    "df_newcases = df_newcases1.groupby(['date']).new_results_reported.agg(new_cases = ('sum'))\n",
    "df_newcases = df_newcases.reset_index()  "
   ]
  },
  {
   "cell_type": "code",
   "execution_count": 307,
   "id": "df4d1379",
   "metadata": {},
   "outputs": [],
   "source": [
    "#To get unique list of date from the data set, order them oldest to newest, and to pick the 30 most recent dates\n",
    "date_list = df_covid.date.unique()\n",
    "date_list.sort()\n",
    "days_list = date_list[-30:]\n",
    "last_30days = pd.DataFrame({'date':days_list})"
   ]
  },
  {
   "cell_type": "code",
   "execution_count": 308,
   "id": "594357f4",
   "metadata": {},
   "outputs": [],
   "source": [
    "#To get data from all positive PCR test date for only the last 30 days\n",
    "df_rolling_last30days = pd.merge(last_30days, df_newcases, on=['date'], how = \"left\")"
   ]
  },
  {
   "cell_type": "code",
   "execution_count": 309,
   "id": "f06ade64",
   "metadata": {},
   "outputs": [],
   "source": [
    "#To calculate last 30 days rolling average of new cases per day for the last 30 days\n",
    "df_pcr_rolling_avg = df_rolling_last30days['new_cases'].rolling(7).mean()\n",
    "df_pcr_rolling_avg = df_pcr_rolling_avg.reset_index() \n",
    "df_pcr_rolling_avg = df_pcr_rolling_avg.rename(columns={'new_cases':'7day_rolling_avg'})\n",
    "df_pcr_rolling_avg['day'] = df_pcr_rolling_avg['index']+1\n",
    "df_pcr_rolling_avg =df_pcr_rolling_avg[['day','7day_rolling_avg']]\n"
   ]
  },
  {
   "cell_type": "code",
   "execution_count": 310,
   "id": "4e46273e",
   "metadata": {},
   "outputs": [
    {
     "name": "stdout",
     "output_type": "stream",
     "text": [
      "The 7-day rolling average number of new cases per day for the last 30 days.\n",
      "     day  7day_rolling_avg\n",
      "0     1               NaN\n",
      "1     2               NaN\n",
      "2     3               NaN\n",
      "3     4               NaN\n",
      "4     5               NaN\n",
      "5     6               NaN\n",
      "6     7       3270.714286\n",
      "7     8       3248.000000\n",
      "8     9       3239.000000\n",
      "9    10       3330.714286\n",
      "10   11       3120.428571\n",
      "11   12       2981.000000\n",
      "12   13       2904.571429\n",
      "13   14       2755.428571\n",
      "14   15       2554.428571\n",
      "15   16       2514.142857\n",
      "16   17       2521.285714\n",
      "17   18       2453.000000\n",
      "18   19       2332.428571\n",
      "19   20       2267.142857\n",
      "20   21       2284.571429\n",
      "21   22       2415.714286\n",
      "22   23       2316.714286\n",
      "23   24       2178.142857\n",
      "24   25       2097.142857\n",
      "25   26       2081.857143\n",
      "26   27       1921.142857\n",
      "27   28       1854.714286\n",
      "28   29       1797.714286\n",
      "29   30               NaN\n"
     ]
    }
   ],
   "source": [
    "#To present results\n",
    "print('The 7-day rolling average number of new cases per day for the last 30 days.\\n',df_pcr_rolling_avg)"
   ]
  },
  {
   "cell_type": "markdown",
   "id": "e16dd544",
   "metadata": {},
   "source": [
    "### Metrics: The 10 states with the highest test positivity rate (positive tests / tests performed) for tests performed in the last 30 days."
   ]
  },
  {
   "cell_type": "code",
   "execution_count": 311,
   "id": "91c095c5",
   "metadata": {},
   "outputs": [],
   "source": [
    "#To get last 30 days of PCR tests from original data set\n",
    "df_covid_last_30days = pd.merge(last_30days, df_covid, on=['date'], how = \"left\")\n",
    "#To have the total of PCR test perfomed per state during the last 30 days\n",
    "df_pcr_totals = df_covid_last_30days.groupby(['state_name']).new_results_reported.agg(tests_performed = ('sum'))\n",
    "df_pcr_totals = df_pcr_totals.reset_index()"
   ]
  },
  {
   "cell_type": "code",
   "execution_count": 312,
   "id": "51aebc14",
   "metadata": {},
   "outputs": [],
   "source": [
    "#to get positive test from last 30 days data set\n",
    "df_pcr_positive1 = df_covid_last_30days[(df_covid_last_30days.overall_outcome == \"Positive\")].copy()\n",
    "# to add up al lthe positive test in the last 30 days per state\n",
    "df_pcr_positive = df_pcr_positive1.groupby(['state_name']).new_results_reported.agg(positive_tests_performed = ('sum'))\n"
   ]
  },
  {
   "cell_type": "code",
   "execution_count": 313,
   "id": "b66404f6",
   "metadata": {},
   "outputs": [],
   "source": [
    "#To merge two data sets: pcr totals per state and positive pcr total per state for the last 30 days\n",
    "df_positivity_rate = pd.merge(df_pcr_totals, df_pcr_positive, on=['state_name'], how = \"left\")\n",
    "df_positivity_rate.sort_values(by=['state_name'], inplace = True)\n"
   ]
  },
  {
   "cell_type": "code",
   "execution_count": 314,
   "id": "0bb24d29",
   "metadata": {},
   "outputs": [],
   "source": [
    "#To avoid math error if there is nan values for dividend as \"0\" and divisor as \"1\".  This may never happend on this process\n",
    "#but it is good to have it\n",
    "df_positivity_rate['positive_tests_performed'] = df_positivity_rate['positive_tests_performed'].fillna(0)\n",
    "df_positivity_rate['tests_performed'] = df_positivity_rate['tests_performed'].fillna(1)\n",
    "#To calculate \"positivity rate\"\n",
    "df_positivity_rate['positivity_rate'] = df_positivity_rate['positive_tests_performed']/df_positivity_rate['tests_performed']\n",
    "df_positivity_rate = df_positivity_rate[['state_name','positivity_rate']]"
   ]
  },
  {
   "cell_type": "code",
   "execution_count": 315,
   "id": "9fab0bbc",
   "metadata": {},
   "outputs": [
    {
     "name": "stdout",
     "output_type": "stream",
     "text": [
      "he 10 states with the highest test positivity rate (positive tests / tests performed) for tests performed in the last 30 days.\n",
      "   state_name  positivity_rate\n",
      "0    Alabama          0.16799\n"
     ]
    }
   ],
   "source": [
    "df_positivity_rate.sort_values(by=['positivity_rate'], inplace = True)\n",
    "df_positivity_rate = df_positivity_rate.reset_index(drop=True)  \n",
    "df_states = df_positivity_rate.tail(10)\n",
    "df_states = df_states.reset_index()\n",
    "df_states = df_states[['state_name','positivity_rate']]\n",
    "print('he 10 states with the highest test positivity rate (positive tests / tests performed) for tests performed in the last 30 days.\\n',df_states)"
   ]
  }
 ],
 "metadata": {
  "kernelspec": {
   "display_name": "Python 3 (ipykernel)",
   "language": "python",
   "name": "python3"
  },
  "language_info": {
   "codemirror_mode": {
    "name": "ipython",
    "version": 3
   },
   "file_extension": ".py",
   "mimetype": "text/x-python",
   "name": "python",
   "nbconvert_exporter": "python",
   "pygments_lexer": "ipython3",
   "version": "3.9.7"
  }
 },
 "nbformat": 4,
 "nbformat_minor": 5
}
