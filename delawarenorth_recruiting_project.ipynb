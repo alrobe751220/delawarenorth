{
 "cells": [
  {
   "cell_type": "markdown",
   "id": "8dfaa6c0",
   "metadata": {},
   "source": [
    "The US Department of Health and Human Services provides federal-level collection and publishing of COVID-19 testing and patient outcome data. To better understand the current state of COVID-19 testing in the US, we’d like you to create a Python project and documentation for the following metrics:\n",
    "•\tThe total number of PCR tests performed as of yesterday in the United States.\n",
    "•\tThe 7-day rolling average number of new cases per day for the last 30 days.\n",
    "•\tThe 10 states with the highest test positivity rate (positive tests / tests performed) for tests performed in the last 30 days.\n",
    "\n"
   ]
  },
  {
   "cell_type": "markdown",
   "id": "648dfa89",
   "metadata": {},
   "source": [
    "Data ingestion\n",
    "•\tIt is assumed data is in a json file with the following structure:        [{\"state\":\"xx\",\"state_name\":\"xxx\",\"state_fips\":\"xx\",\"fema_region\":\"xxx…\",\"overall_outcome\":\"xxx…\",\"date\":\"xxxx…\",\"new_results_reported\":\"xxx…\",\"total_results_reported\":\"xxx…\"},{….}]\n",
    "•\tData could be read from a given location\n"
   ]
  },
  {
   "cell_type": "code",
   "execution_count": 234,
   "id": "c09fa982",
   "metadata": {},
   "outputs": [],
   "source": [
    "# load pandas and json modules                                                                                               \n",
    "import pandas as pd\n",
    "import json"
   ]
  },
  {
   "cell_type": "markdown",
   "id": "f1b86223",
   "metadata": {},
   "source": [
    "Source location and file name definition"
   ]
  },
  {
   "cell_type": "code",
   "execution_count": 235,
   "id": "6d7cf8f2",
   "metadata": {},
   "outputs": [],
   "source": [
    "#source_location = 'https://healthdata.gov/resource/'\n",
    "source_location = 'C:/Users/arodriguezbe/OneDrive - Suncor Energy Inc/'\n",
    "#source_file = 'j8mb-icvb.json'\n",
    "source_file = 'COVID-19_Diagnostic_Laboratory_Testing__PCR_Testing__Time_Series.csv'"
   ]
  },
  {
   "cell_type": "code",
   "execution_count": 5,
   "id": "bb550633",
   "metadata": {},
   "outputs": [],
   "source": [
    "df_covid = pd.read_json(source_location + source_file)"
   ]
  },
  {
   "cell_type": "code",
   "execution_count": 236,
   "id": "cfbf60e0",
   "metadata": {},
   "outputs": [],
   "source": [
    "df_covid = pd.read_csv(source_location + source_file, index_col=None)"
   ]
  },
  {
   "cell_type": "markdown",
   "id": "20468395",
   "metadata": {},
   "source": [
    "To check data formats"
   ]
  },
  {
   "cell_type": "code",
   "execution_count": 237,
   "id": "fc1da813",
   "metadata": {},
   "outputs": [],
   "source": [
    "df_covid['date']= df_covid['date'].astype(str)\n",
    "df_covid['date']= df_covid['date'].astype('datetime64[ns]')"
   ]
  },
  {
   "cell_type": "markdown",
   "id": "4cb15d86",
   "metadata": {},
   "source": [
    "To order data set by \"date\""
   ]
  },
  {
   "cell_type": "code",
   "execution_count": 238,
   "id": "310c0c34",
   "metadata": {},
   "outputs": [],
   "source": [
    "df_covid.sort_values(by=['date'], inplace = True)\n",
    "df_covid = df_covid.reset_index(drop=True)  "
   ]
  },
  {
   "cell_type": "markdown",
   "id": "b66d03ec",
   "metadata": {},
   "source": [
    "•\tThe total number of PCR tests performed as of yesterday in the United States."
   ]
  },
  {
   "cell_type": "code",
   "execution_count": 239,
   "id": "2eb46646",
   "metadata": {},
   "outputs": [],
   "source": [
    "df_pcr_totals = df_covid.groupby('date').new_results_reported.agg(df_pcr_totals = ('sum'))\n",
    "df_pcr_totals = df_pcr_totals.reset_index()  "
   ]
  },
  {
   "cell_type": "code",
   "execution_count": 240,
   "id": "330e616b",
   "metadata": {},
   "outputs": [
    {
     "name": "stdout",
     "output_type": "stream",
     "text": [
      "The total number of PCR tests performed as of yesterday in the United States : 143630 cases\n"
     ]
    }
   ],
   "source": [
    "print('The total number of PCR tests performed as of yesterday in the United States :',df_pcr_totals['df_pcr_totals'].iloc[len(df_pcr_totals)-2], 'cases')"
   ]
  },
  {
   "cell_type": "markdown",
   "id": "5a5f207f",
   "metadata": {},
   "source": [
    "•\tThe 7-day rolling average number of new cases per day for the last 30 days."
   ]
  },
  {
   "cell_type": "code",
   "execution_count": 229,
   "id": "e10cf7c6",
   "metadata": {},
   "outputs": [],
   "source": [
    "date_list = df_covid.date.unique()\n",
    "date_list.sort()\n",
    "days_list = date_list[-30:]\n",
    "last_30days = pd.DataFrame({'date':days_list})"
   ]
  },
  {
   "cell_type": "code",
   "execution_count": 230,
   "id": "e7d0cbd4",
   "metadata": {},
   "outputs": [],
   "source": [
    "df_rolling_last30days = pd.merge(last_30days, df_pcr_totals, on=['date'], how = \"left\")"
   ]
  },
  {
   "cell_type": "code",
   "execution_count": 231,
   "id": "6f37b21c",
   "metadata": {},
   "outputs": [],
   "source": [
    "df_pcr_rolling_avg = df_rolling_last30days['df_pcr_totals'].rolling(7).mean()\n",
    "df_pcr_rolling_avg = df_pcr_rolling_avg.reset_index() \n",
    "df_pcr_rolling_avg = df_pcr_rolling_avg.rename(columns={'df_pcr_totals':'7day_rolling_avg'})\n",
    "df_pcr_rolling_avg['day'] = df_pcr_rolling_avg['index']+1\n",
    "df_pcr_rolling_avg =df_pcr_rolling_avg[['day','7day_rolling_avg']]\n"
   ]
  },
  {
   "cell_type": "code",
   "execution_count": 233,
   "id": "cbc5f6fd",
   "metadata": {},
   "outputs": [
    {
     "name": "stdout",
     "output_type": "stream",
     "text": [
      "The 7-day rolling average number of new cases per day for the last 30 days.\n",
      "     day  7day_rolling_avg\n",
      "0     1               NaN\n",
      "1     2               NaN\n",
      "2     3               NaN\n",
      "3     4               NaN\n",
      "4     5               NaN\n",
      "5     6               NaN\n",
      "6     7     869699.285714\n",
      "7     8     866502.142857\n",
      "8     9     848681.285714\n",
      "9    10     828982.428571\n",
      "10   11     823619.428571\n",
      "11   12     797666.571429\n",
      "12   13     750483.714286\n",
      "13   14     699912.142857\n",
      "14   15     651569.714286\n",
      "15   16     610897.714286\n",
      "16   17     584229.142857\n",
      "17   18     574411.285714\n",
      "18   19     522510.857143\n",
      "19   20     482608.857143\n",
      "20   21     468090.142857\n",
      "21   22     479252.571429\n",
      "22   23     489042.571429\n",
      "23   24     492203.714286\n",
      "24   25     494018.285714\n",
      "25   26     528494.000000\n",
      "26   27     539187.285714\n",
      "27   28     504365.857143\n",
      "28   29     419343.857143\n",
      "29   30     341379.857143\n"
     ]
    }
   ],
   "source": [
    "print('The 7-day rolling average number of new cases per day for the last 30 days.\\n',df_pcr_rolling_avg)"
   ]
  },
  {
   "cell_type": "code",
   "execution_count": 221,
   "id": "21c52a99",
   "metadata": {},
   "outputs": [
    {
     "name": "stdout",
     "output_type": "stream",
     "text": [
      "The 7-day rolling average number of new cases per day for the last 30 days:\n",
      "\n",
      "    index  df_pcr_totals  day\n",
      "0       0            NaN    1\n",
      "1       1            NaN    2\n",
      "2       2            NaN    3\n",
      "3       3            NaN    4\n",
      "4       4            NaN    5\n",
      "5       5            NaN    6\n",
      "6       6  869699.285714    7\n",
      "7       7  866502.142857    8\n",
      "8       8  848681.285714    9\n",
      "9       9  828982.428571   10\n",
      "10     10  823619.428571   11\n",
      "11     11  797666.571429   12\n",
      "12     12  750483.714286   13\n",
      "13     13  699912.142857   14\n",
      "14     14  651569.714286   15\n",
      "15     15  610897.714286   16\n",
      "16     16  584229.142857   17\n",
      "17     17  574411.285714   18\n",
      "18     18  522510.857143   19\n",
      "19     19  482608.857143   20\n",
      "20     20  468090.142857   21\n",
      "21     21  479252.571429   22\n",
      "22     22  489042.571429   23\n",
      "23     23  492203.714286   24\n",
      "24     24  494018.285714   25\n",
      "25     25  528494.000000   26\n",
      "26     26  539187.285714   27\n",
      "27     27  504365.857143   28\n",
      "28     28  419343.857143   29\n",
      "29     29  341379.857143   30\n"
     ]
    }
   ],
   "source": [
    "print('The 7-day rolling average number of new cases per day for the last 30 days:\\n')\n",
    "print(df_pcr_rolling_avg)\n"
   ]
  },
  {
   "cell_type": "markdown",
   "id": "d3bca27e",
   "metadata": {},
   "source": [
    "•\tThe 10 states with the highest test positivity rate (positive tests / tests performed) for tests performed in the last 30 days."
   ]
  },
  {
   "cell_type": "code",
   "execution_count": 202,
   "id": "6c01d357",
   "metadata": {},
   "outputs": [],
   "source": [
    "df_covid_last_30days = pd.merge(last_30days, df_covid, on=['date'], how = \"left\")\n",
    "df_pcr_totals = df_covid_last_30days.groupby(['state_name']).new_results_reported.agg(tests_performed = ('sum'))\n",
    "df_pcr_totals = df_pcr_totals.reset_index()"
   ]
  },
  {
   "cell_type": "code",
   "execution_count": 203,
   "id": "6a5b3f86",
   "metadata": {},
   "outputs": [],
   "source": [
    "df_pcr_positive1 = df_covid_last_30days[(df_covid_last_30days.overall_outcome == \"Positive\")].copy() \n",
    "df_pcr_positive = df_pcr_positive1.groupby(['state_name']).new_results_reported.agg(positive_tests_performed = ('sum'))\n"
   ]
  },
  {
   "cell_type": "code",
   "execution_count": 204,
   "id": "d144167c",
   "metadata": {},
   "outputs": [],
   "source": [
    "df_positivity_rate = pd.merge(df_pcr_totals, df_pcr_positive, on=['state_name'], how = \"left\")\n",
    "df_positivity_rate.sort_values(by=['state_name'], inplace = True)\n"
   ]
  },
  {
   "cell_type": "code",
   "execution_count": 206,
   "id": "8a05cba8",
   "metadata": {},
   "outputs": [],
   "source": [
    "df_positivity_rate['positivity_rate'] = df_positivity_rate['positive_tests_performed']/df_positivity_rate['tests_performed']\n",
    "df_positivity_rate = df_positivity_rate[['state_name','positivity_rate']]\n",
    "df_positivity_rate['positivity_rate'] = df_positivity_rate['positivity_rate'].fillna(0)"
   ]
  },
  {
   "cell_type": "code",
   "execution_count": 207,
   "id": "52861e13",
   "metadata": {},
   "outputs": [
    {
     "name": "stdout",
     "output_type": "stream",
     "text": [
      "   index           state_name  positivity_rate\n",
      "0     44             Virginia         0.180712\n",
      "1     45             Delaware         0.185343\n",
      "2     46              Arizona         0.191249\n",
      "3     47              Florida         0.191401\n",
      "4     48               Hawaii         0.205829\n",
      "5     49                 Utah         0.222829\n",
      "6     50               Nevada         0.254257\n",
      "7     51  U.S. Virgin Islands         0.285941\n",
      "8     52          Puerto Rico         0.290394\n",
      "9     53                 Iowa         1.000000\n"
     ]
    }
   ],
   "source": [
    "df_positivity_rate.sort_values(by=['positivity_rate'], inplace = True)\n",
    "df_positivity_rate = df_positivity_rate.reset_index(drop=True)  \n",
    "df_states = df_positivity_rate.tail(10)\n",
    "df_states = df_states.reset_index()\n",
    "print(df_states)"
   ]
  }
 ],
 "metadata": {
  "kernelspec": {
   "display_name": "Python 3 (ipykernel)",
   "language": "python",
   "name": "python3"
  },
  "language_info": {
   "codemirror_mode": {
    "name": "ipython",
    "version": 3
   },
   "file_extension": ".py",
   "mimetype": "text/x-python",
   "name": "python",
   "nbconvert_exporter": "python",
   "pygments_lexer": "ipython3",
   "version": "3.9.7"
  }
 },
 "nbformat": 4,
 "nbformat_minor": 5
}
